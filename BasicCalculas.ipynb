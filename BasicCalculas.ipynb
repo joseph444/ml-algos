{
  "nbformat": 4,
  "nbformat_minor": 0,
  "metadata": {
    "colab": {
      "name": "BasicCalculas.ipynb",
      "provenance": [],
      "authorship_tag": "ABX9TyND3OmFNdi31A7WWlfRJfh1",
      "include_colab_link": true
    },
    "kernelspec": {
      "name": "python3",
      "display_name": "Python 3"
    }
  },
  "cells": [
    {
      "cell_type": "markdown",
      "metadata": {
        "id": "view-in-github",
        "colab_type": "text"
      },
      "source": [
        "<a href=\"https://colab.research.google.com/github/joseph444/ml-algos/blob/master/BasicCalculas.ipynb\" target=\"_parent\"><img src=\"https://colab.research.google.com/assets/colab-badge.svg\" alt=\"Open In Colab\"/></a>"
      ]
    },
    {
      "cell_type": "markdown",
      "metadata": {
        "id": "N393nwiqG-Ji",
        "colab_type": "text"
      },
      "source": [
        "<h1>Calculus</h1>"
      ]
    },
    {
      "cell_type": "code",
      "metadata": {
        "id": "EFLrgiqHHI0m",
        "colab_type": "code",
        "colab": {}
      },
      "source": [
        "def derivative(func,val,dx=1):\n",
        "    \"\"\"\n",
        "    Works on the limit formula of derivate of x, i.e \n",
        "    lim     f'(x) = f(x+dx)-f(x)\n",
        "    dx->inf         ------------\n",
        "                        dx\n",
        "    func: is the mathematical function\n",
        "    val is the value of x\n",
        "    dx is the small part of x (default 1, scipy.misc.derivative)\n",
        "    returns the derivative\n",
        "    \"\"\"\n",
        "    val=func(val+dx)-func(val)\n",
        "    return val/dx"
      ],
      "execution_count": 1,
      "outputs": []
    },
    {
      "cell_type": "code",
      "metadata": {
        "id": "KU_b9wOPIygm",
        "colab_type": "code",
        "colab": {}
      },
      "source": [
        "import math as mt"
      ],
      "execution_count": 2,
      "outputs": []
    },
    {
      "cell_type": "code",
      "metadata": {
        "id": "mqG2r-30JFse",
        "colab_type": "code",
        "colab": {
          "base_uri": "https://localhost:8080/",
          "height": 34
        },
        "outputId": "f08d0541-94a5-4e65-9a88-66883b3cf44b"
      },
      "source": [
        "fx= mt.log\n",
        "val=0.1\n",
        "dx=0.0001\n",
        "derivative(fx,val,dx)"
      ],
      "execution_count": 11,
      "outputs": [
        {
          "output_type": "execute_result",
          "data": {
            "text/plain": [
              "9.995003330836028"
            ]
          },
          "metadata": {
            "tags": []
          },
          "execution_count": 11
        }
      ]
    },
    {
      "cell_type": "code",
      "metadata": {
        "id": "baMyhQ-2JZi0",
        "colab_type": "code",
        "colab": {}
      },
      "source": [
        "def Intergal(func,a,b,n=100):\n",
        "  \"\"\"\n",
        "  Works on the reiman formula of limit of sum ie\n",
        "  lim       when lim\n",
        "  n-> inf         h->0\n",
        "  ie h= (b-a)/n , where b is upper bound a is lower bound and n is the no of interval present in the closed area,\n",
        "  therefore h represents the width of interval in the two dimensional graph\n",
        "\n",
        "  Y= lim   h * summation of f(x+i*h) (where, i is from i=0 to n-1)\n",
        "     h->0 \n",
        "  \"\"\"\n",
        "    h=(b-a)/n\n",
        "    Sum=0\n",
        "    for ri in range(n):\n",
        "        Sum+=func(a+(ri*h))\n",
        "        pass\n",
        "    return Sum*h"
      ],
      "execution_count": 16,
      "outputs": []
    },
    {
      "cell_type": "code",
      "metadata": {
        "id": "wWbCRAFaNfPW",
        "colab_type": "code",
        "colab": {
          "base_uri": "https://localhost:8080/",
          "height": 34
        },
        "outputId": "05b8f01b-cbf5-411f-a089-683643fd5d5e"
      },
      "source": [
        "Intergal(mt.log,2,4,1000)"
      ],
      "execution_count": 17,
      "outputs": [
        {
          "output_type": "execute_result",
          "data": {
            "text/plain": [
              "2.1581898528457852"
            ]
          },
          "metadata": {
            "tags": []
          },
          "execution_count": 17
        }
      ]
    },
    {
      "cell_type": "code",
      "metadata": {
        "id": "V1kR5kLANoAP",
        "colab_type": "code",
        "colab": {}
      },
      "source": [
        ""
      ],
      "execution_count": null,
      "outputs": []
    }
  ]
}