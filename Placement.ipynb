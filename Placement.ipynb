{
  "nbformat": 4,
  "nbformat_minor": 0,
  "metadata": {
    "colab": {
      "name": "Placement.ipynb",
      "provenance": [],
      "authorship_tag": "ABX9TyNJKPuaPXI+n8TDdLJkOnDf",
      "include_colab_link": true
    },
    "kernelspec": {
      "name": "python3",
      "display_name": "Python 3"
    }
  },
  "cells": [
    {
      "cell_type": "markdown",
      "metadata": {
        "id": "view-in-github",
        "colab_type": "text"
      },
      "source": [
        "<a href=\"https://colab.research.google.com/github/joseph444/ml-algos/blob/master/Placement.ipynb\" target=\"_parent\"><img src=\"https://colab.research.google.com/assets/colab-badge.svg\" alt=\"Open In Colab\"/></a>"
      ]
    },
    {
      "cell_type": "code",
      "metadata": {
        "id": "82JHAQfFrA8z",
        "colab_type": "code",
        "colab": {}
      },
      "source": [
        "import numpy as np\n",
        "import pandas as pd\n",
        "import matplotlib.pyplot as plt\n",
        "%matplotlib inline"
      ],
      "execution_count": 1,
      "outputs": []
    },
    {
      "cell_type": "markdown",
      "metadata": {
        "id": "6htD7NZbsOBI",
        "colab_type": "text"
      },
      "source": [
        "#importing datasets"
      ]
    },
    {
      "cell_type": "code",
      "metadata": {
        "id": "Lkx3kdgGsM46",
        "colab_type": "code",
        "colab": {
          "base_uri": "https://localhost:8080/",
          "height": 202
        },
        "outputId": "5542cfbc-7745-4b47-de78-15c78ce39cfa"
      },
      "source": [
        "dataset=pd.read_csv(\"/Placement_Data_Full_Class.csv\")\n",
        "dataset.head()"
      ],
      "execution_count": 2,
      "outputs": [
        {
          "output_type": "execute_result",
          "data": {
            "text/html": [
              "<div>\n",
              "<style scoped>\n",
              "    .dataframe tbody tr th:only-of-type {\n",
              "        vertical-align: middle;\n",
              "    }\n",
              "\n",
              "    .dataframe tbody tr th {\n",
              "        vertical-align: top;\n",
              "    }\n",
              "\n",
              "    .dataframe thead th {\n",
              "        text-align: right;\n",
              "    }\n",
              "</style>\n",
              "<table border=\"1\" class=\"dataframe\">\n",
              "  <thead>\n",
              "    <tr style=\"text-align: right;\">\n",
              "      <th></th>\n",
              "      <th>sl_no</th>\n",
              "      <th>gender</th>\n",
              "      <th>ssc_p</th>\n",
              "      <th>ssc_b</th>\n",
              "      <th>hsc_p</th>\n",
              "      <th>hsc_b</th>\n",
              "      <th>hsc_s</th>\n",
              "      <th>degree_p</th>\n",
              "      <th>degree_t</th>\n",
              "      <th>workex</th>\n",
              "      <th>etest_p</th>\n",
              "      <th>specialisation</th>\n",
              "      <th>mba_p</th>\n",
              "      <th>status</th>\n",
              "      <th>salary</th>\n",
              "    </tr>\n",
              "  </thead>\n",
              "  <tbody>\n",
              "    <tr>\n",
              "      <th>0</th>\n",
              "      <td>1</td>\n",
              "      <td>M</td>\n",
              "      <td>67.00</td>\n",
              "      <td>Others</td>\n",
              "      <td>91.00</td>\n",
              "      <td>Others</td>\n",
              "      <td>Commerce</td>\n",
              "      <td>58.00</td>\n",
              "      <td>Sci&amp;Tech</td>\n",
              "      <td>No</td>\n",
              "      <td>55.0</td>\n",
              "      <td>Mkt&amp;HR</td>\n",
              "      <td>58.80</td>\n",
              "      <td>Placed</td>\n",
              "      <td>270000.0</td>\n",
              "    </tr>\n",
              "    <tr>\n",
              "      <th>1</th>\n",
              "      <td>2</td>\n",
              "      <td>M</td>\n",
              "      <td>79.33</td>\n",
              "      <td>Central</td>\n",
              "      <td>78.33</td>\n",
              "      <td>Others</td>\n",
              "      <td>Science</td>\n",
              "      <td>77.48</td>\n",
              "      <td>Sci&amp;Tech</td>\n",
              "      <td>Yes</td>\n",
              "      <td>86.5</td>\n",
              "      <td>Mkt&amp;Fin</td>\n",
              "      <td>66.28</td>\n",
              "      <td>Placed</td>\n",
              "      <td>200000.0</td>\n",
              "    </tr>\n",
              "    <tr>\n",
              "      <th>2</th>\n",
              "      <td>3</td>\n",
              "      <td>M</td>\n",
              "      <td>65.00</td>\n",
              "      <td>Central</td>\n",
              "      <td>68.00</td>\n",
              "      <td>Central</td>\n",
              "      <td>Arts</td>\n",
              "      <td>64.00</td>\n",
              "      <td>Comm&amp;Mgmt</td>\n",
              "      <td>No</td>\n",
              "      <td>75.0</td>\n",
              "      <td>Mkt&amp;Fin</td>\n",
              "      <td>57.80</td>\n",
              "      <td>Placed</td>\n",
              "      <td>250000.0</td>\n",
              "    </tr>\n",
              "    <tr>\n",
              "      <th>3</th>\n",
              "      <td>4</td>\n",
              "      <td>M</td>\n",
              "      <td>56.00</td>\n",
              "      <td>Central</td>\n",
              "      <td>52.00</td>\n",
              "      <td>Central</td>\n",
              "      <td>Science</td>\n",
              "      <td>52.00</td>\n",
              "      <td>Sci&amp;Tech</td>\n",
              "      <td>No</td>\n",
              "      <td>66.0</td>\n",
              "      <td>Mkt&amp;HR</td>\n",
              "      <td>59.43</td>\n",
              "      <td>Not Placed</td>\n",
              "      <td>NaN</td>\n",
              "    </tr>\n",
              "    <tr>\n",
              "      <th>4</th>\n",
              "      <td>5</td>\n",
              "      <td>M</td>\n",
              "      <td>85.80</td>\n",
              "      <td>Central</td>\n",
              "      <td>73.60</td>\n",
              "      <td>Central</td>\n",
              "      <td>Commerce</td>\n",
              "      <td>73.30</td>\n",
              "      <td>Comm&amp;Mgmt</td>\n",
              "      <td>No</td>\n",
              "      <td>96.8</td>\n",
              "      <td>Mkt&amp;Fin</td>\n",
              "      <td>55.50</td>\n",
              "      <td>Placed</td>\n",
              "      <td>425000.0</td>\n",
              "    </tr>\n",
              "  </tbody>\n",
              "</table>\n",
              "</div>"
            ],
            "text/plain": [
              "   sl_no gender  ssc_p    ssc_b  ...  specialisation  mba_p      status    salary\n",
              "0      1      M  67.00   Others  ...          Mkt&HR  58.80      Placed  270000.0\n",
              "1      2      M  79.33  Central  ...         Mkt&Fin  66.28      Placed  200000.0\n",
              "2      3      M  65.00  Central  ...         Mkt&Fin  57.80      Placed  250000.0\n",
              "3      4      M  56.00  Central  ...          Mkt&HR  59.43  Not Placed       NaN\n",
              "4      5      M  85.80  Central  ...         Mkt&Fin  55.50      Placed  425000.0\n",
              "\n",
              "[5 rows x 15 columns]"
            ]
          },
          "metadata": {
            "tags": []
          },
          "execution_count": 2
        }
      ]
    },
    {
      "cell_type": "markdown",
      "metadata": {
        "id": "tCT9ft84tWA_",
        "colab_type": "text"
      },
      "source": [
        "#Diving into X and Y"
      ]
    },
    {
      "cell_type": "code",
      "metadata": {
        "id": "wiZjZNQksbgz",
        "colab_type": "code",
        "colab": {}
      },
      "source": [
        "X=dataset.iloc[:,1:-2].values\n",
        "Y=dataset.iloc[:,-2].values"
      ],
      "execution_count": 3,
      "outputs": []
    },
    {
      "cell_type": "markdown",
      "metadata": {
        "id": "mUXNZAZ_twEv",
        "colab_type": "text"
      },
      "source": [
        "Checking all the categorical data in dataset to implement proper encoding"
      ]
    },
    {
      "cell_type": "code",
      "metadata": {
        "id": "yXH5mlcttsal",
        "colab_type": "code",
        "colab": {
          "base_uri": "https://localhost:8080/",
          "height": 458
        },
        "outputId": "9d67faf6-06e0-4b40-a5dc-e6f49852bd26"
      },
      "source": [
        "print(\"Unque in Gender column\")\n",
        "print(dataset['gender'].unique())\n",
        "print(\"------------------------------------------------------------------------\")\n",
        "print(\"Unique in ssc_b\")\n",
        "print(dataset['ssc_b'].unique())\n",
        "print(\"------------------------------------------------------------------------\")\n",
        "print(\"Unique in hsc_b\")\n",
        "print(dataset['hsc_b'].unique())\n",
        "print(\"------------------------------------------------------------------------\")\n",
        "print(\"Unique in hsc_s\")\n",
        "print(dataset['hsc_s'].unique())\n",
        "print(\"------------------------------------------------------------------------\")\n",
        "print(\"Unique in degree_t\")\n",
        "print(dataset['degree_t'].unique())\n",
        "print(\"------------------------------------------------------------------------\")\n",
        "print(\"Unique in spec\")\n",
        "print(dataset['specialisation'].unique())\n",
        "\n",
        "#creating Dictonary containing this unique values\n",
        "Gender={\n",
        "    'M':1,\n",
        "    'F':2\n",
        "}\n",
        "sc_b={\n",
        "    'Others':1,\n",
        "    'Central':2\n",
        "}\n",
        "sc_c={\n",
        "    'Commerce':1,\n",
        "    'Science':2,\n",
        "    'Arts':3\n",
        "}\n",
        "degree_t={\n",
        "    'Sci&Tech':1,\n",
        "    'Comm&Mgmt':2,\n",
        "    'Others':3\n",
        "}\n",
        "spec={\n",
        "    'Mkt&HR':1,\n",
        "    'Mkt&Fin':2\n",
        "}\n",
        "yes_no={\n",
        "    'Yes':1,\n",
        "    'No':0,\n",
        "    'Placed':1,\n",
        "    'Not Placed':0\n",
        "}\n",
        "def encode_categorical_data(X):\n",
        "    X[:,0]=np.array([Gender[i] for i in X[:,0]])\n",
        "    X[:,2]=np.array([sc_b[i] for i in X[:,2]])\n",
        "    X[:,4]=np.array([sc_b[i] for i in X[:,4]])\n",
        "    X[:,5]=np.array([sc_c[i] for i in X[:,5]])\n",
        "    X[:,7]=np.array([degree_t[i] for i in X[:,7]])\n",
        "    X[:,8]=np.array([yes_no[i] for i in X[:,8]])\n",
        "    X[:,10]=np.array([spec[i] for i in X[:,10]])\n",
        "    return X\n",
        "    pass\n",
        "        \n",
        " \n",
        "X[:4,:]"
      ],
      "execution_count": 4,
      "outputs": [
        {
          "output_type": "stream",
          "text": [
            "Unque in Gender column\n",
            "['M' 'F']\n",
            "------------------------------------------------------------------------\n",
            "Unique in ssc_b\n",
            "['Others' 'Central']\n",
            "------------------------------------------------------------------------\n",
            "Unique in hsc_b\n",
            "['Others' 'Central']\n",
            "------------------------------------------------------------------------\n",
            "Unique in hsc_s\n",
            "['Commerce' 'Science' 'Arts']\n",
            "------------------------------------------------------------------------\n",
            "Unique in degree_t\n",
            "['Sci&Tech' 'Comm&Mgmt' 'Others']\n",
            "------------------------------------------------------------------------\n",
            "Unique in spec\n",
            "['Mkt&HR' 'Mkt&Fin']\n"
          ],
          "name": "stdout"
        },
        {
          "output_type": "execute_result",
          "data": {
            "text/plain": [
              "array([['M', 67.0, 'Others', 91.0, 'Others', 'Commerce', 58.0,\n",
              "        'Sci&Tech', 'No', 55.0, 'Mkt&HR', 58.8],\n",
              "       ['M', 79.33, 'Central', 78.33, 'Others', 'Science', 77.48,\n",
              "        'Sci&Tech', 'Yes', 86.5, 'Mkt&Fin', 66.28],\n",
              "       ['M', 65.0, 'Central', 68.0, 'Central', 'Arts', 64.0, 'Comm&Mgmt',\n",
              "        'No', 75.0, 'Mkt&Fin', 57.8],\n",
              "       ['M', 56.0, 'Central', 52.0, 'Central', 'Science', 52.0,\n",
              "        'Sci&Tech', 'No', 66.0, 'Mkt&HR', 59.43]], dtype=object)"
            ]
          },
          "metadata": {
            "tags": []
          },
          "execution_count": 4
        }
      ]
    },
    {
      "cell_type": "code",
      "metadata": {
        "id": "F2OpX28vt__o",
        "colab_type": "code",
        "colab": {}
      },
      "source": [
        "X=encode_categorical_data(X)"
      ],
      "execution_count": 5,
      "outputs": []
    },
    {
      "cell_type": "code",
      "metadata": {
        "id": "ck_eh6Oqwbqx",
        "colab_type": "code",
        "colab": {}
      },
      "source": [
        "Y=Y.reshape((Y.shape[0],1))"
      ],
      "execution_count": 6,
      "outputs": []
    },
    {
      "cell_type": "code",
      "metadata": {
        "id": "cs311Zto1fgM",
        "colab_type": "code",
        "colab": {
          "base_uri": "https://localhost:8080/",
          "height": 34
        },
        "outputId": "43cfc813-7495-4199-da80-a1a02f0f1289"
      },
      "source": [
        "Y[:,0]=np.array([yes_no[i] for i in Y[:,0]])\n",
        "Y=Y.flatten().astype(int)\n",
        "Y[:5]"
      ],
      "execution_count": 7,
      "outputs": [
        {
          "output_type": "execute_result",
          "data": {
            "text/plain": [
              "array([1, 1, 1, 0, 1])"
            ]
          },
          "metadata": {
            "tags": []
          },
          "execution_count": 7
        }
      ]
    },
    {
      "cell_type": "markdown",
      "metadata": {
        "id": "SdcKmM_j3wt8",
        "colab_type": "text"
      },
      "source": [
        "#Standard Scaling the X"
      ]
    },
    {
      "cell_type": "code",
      "metadata": {
        "id": "kA2m9so13db8",
        "colab_type": "code",
        "colab": {}
      },
      "source": [
        "from sklearn.preprocessing import StandardScaler\n",
        "sc=StandardScaler()\n",
        "X=sc.fit_transform(X)"
      ],
      "execution_count": 8,
      "outputs": []
    },
    {
      "cell_type": "markdown",
      "metadata": {
        "id": "zx0aIisbE1fv",
        "colab_type": "text"
      },
      "source": [
        "#Spliting the Dataset"
      ]
    },
    {
      "cell_type": "code",
      "metadata": {
        "id": "z9yJYbav4HYE",
        "colab_type": "code",
        "colab": {}
      },
      "source": [
        "from sklearn.model_selection import train_test_split\n",
        "xtrain,xtest,ytrain,ytest=train_test_split(X,Y)\n"
      ],
      "execution_count": 9,
      "outputs": []
    },
    {
      "cell_type": "markdown",
      "metadata": {
        "id": "hwQEtYAvFTGk",
        "colab_type": "text"
      },
      "source": [
        "#Creating and Training the model"
      ]
    },
    {
      "cell_type": "code",
      "metadata": {
        "id": "QArovJSjF9OM",
        "colab_type": "code",
        "colab": {}
      },
      "source": [
        "from sklearn.linear_model import LogisticRegression\n",
        "classifier=LogisticRegression()\n",
        "classifier.fit(xtrain,ytrain)\n",
        "ypred=classifier.predict(xtest)\n"
      ],
      "execution_count": 10,
      "outputs": []
    },
    {
      "cell_type": "code",
      "metadata": {
        "id": "2FLJ2NdlQtgE",
        "colab_type": "code",
        "colab": {
          "base_uri": "https://localhost:8080/",
          "height": 34
        },
        "outputId": "c2563faf-a78b-44f6-eef1-620abd8622fb"
      },
      "source": [
        "print(round(classifier.score(xtest,ytest)*100,2),\"%\")"
      ],
      "execution_count": 11,
      "outputs": [
        {
          "output_type": "stream",
          "text": [
            "90.74 %\n"
          ],
          "name": "stdout"
        }
      ]
    },
    {
      "cell_type": "code",
      "metadata": {
        "id": "K-3f5HPARE_8",
        "colab_type": "code",
        "colab": {}
      },
      "source": [
        "class LogisticRegressionDD:\n",
        "      @staticmethod\n",
        "      def sigmoid(x):\n",
        "          \"\"\"\n",
        "          x: an numpy array\n",
        "          returns the result as an array\n",
        "          \"\"\"\n",
        "          return 1/(1+np.exp(-x))\n",
        "      \n",
        "      @staticmethod\n",
        "      def net_input(theta,x):\n",
        "          return np.dot(x,theta)\n",
        "\n",
        "      def probability(self,x,theta):\n",
        "          return self.sigmoid(self.net_input(theta,x))\n",
        "    \n",
        "      def cost(self,theta,x,y):\n",
        "          \"\"\"\n",
        "          Computes the cost of the Logistic regression\n",
        "          x: is the array of independentVariable\n",
        "          y: is the array of dependent variable\n",
        "          theta is the coeffiecnet matrix\n",
        "          m is the no of samples\n",
        "          returns the cost of the current classification\n",
        "          \"\"\"\n",
        "          m=x.shape[0]\n",
        "          p1=-(1/m)\n",
        "          q1=y*np.log(self.probability(x,theta))+(1-y)*np.log(1-self.probability(x,theta))\n",
        "          p2=np.sum(q1)\n",
        "          total_cost= p1*p2\n",
        "          return total_cost\n",
        "      \n",
        "      def gradient(self,theta,x,y):\n",
        "          \"\"\"\n",
        "          Calculates the gradient of the cost function\n",
        "          x: is the array of independentVariable\n",
        "          y: is the array of dependent variable\n",
        "          theta is the coeffiecnet matrix\n",
        "          m is the no of samples\n",
        "          returns the local minima of the current cost function\n",
        "          \"\"\"\n",
        "          m=x.shape[0]\n",
        "          dj=(1/m)*np.dot(x.T,(self.sigmoid(self.net_input(theta,x))-y))\n",
        "          return dj\n",
        "      def getTheta(self,x,y):\n",
        "          \"\"\"\n",
        "          calculates the regressional coefficient \n",
        "          x: the array of independent variables\n",
        "          y: the array of dependent variables\n",
        "          returns Theta\n",
        "          \"\"\"\n",
        "          p1=np.linalg.inv(np.dot(x.T,x))\n",
        "          p2=np.dot(x.T,y)\n",
        "          theta=np.dot(p1,p2)\n",
        "          return theta\n",
        "     \n",
        "\n",
        "\n",
        "      def fit(self,x,y):\n",
        "          \"\"\"\n",
        "          we will fetch the minima of the cost for the provided x and y and then tracing back to the weight fo the variables will give us the reqired values\n",
        "          \"\"\"\n",
        "          from scipy.optimize import fmin_tnc\n",
        "          ones=np.ones((x.shape[0],1))\n",
        "          X=np.hstack((ones,x))\n",
        "          y=y[:,np.newaxis]\n",
        "          theta=np.zeros((X.shape[1],1))\n",
        "          m=y.shape[0]\n",
        "          self.weight=fmin_tnc(func=self.cost,x0=theta,fprime=self.gradient,args=(X,y.flatten()))[0]\n",
        "      \n",
        "      def predict(self,x):\n",
        "          theta=self.weight[:,np.newaxis]\n",
        "          ones=np.ones((x.shape[0],1))\n",
        "          X=np.hstack((ones,x))\n",
        "          return self.probability(X,theta)\n",
        "      def accuracy(self,x,y,threshold=0.5):\n",
        "          predicted_class=(self.predict(x)>=threshold).astype(int)\n",
        "          predicted_class=predicted_class.flatten()\n",
        "          actual_class=(y>=threshold).astype(int)\n",
        "          actual_class=actual_class.flatten()\n",
        "          accuracy=np.mean(predicted_class==actual_class)\n",
        "          return accuracy*100\n"
      ],
      "execution_count": 12,
      "outputs": []
    },
    {
      "cell_type": "code",
      "metadata": {
        "id": "X-V93sgrRejg",
        "colab_type": "code",
        "colab": {
          "base_uri": "https://localhost:8080/",
          "height": 34
        },
        "outputId": "f1e7a1e4-9c4a-4a55-fcc1-bc564833cd34"
      },
      "source": [
        "regressor=LogisticRegressionDD()\n",
        "regressor.fit(X,Y)\n",
        "ypred=regressor.predict(xtest)\n",
        "print(round(regressor.accuracy(xtest,ytest,3)),\"%\")"
      ],
      "execution_count": 13,
      "outputs": [
        {
          "output_type": "stream",
          "text": [
            "100.0 %\n"
          ],
          "name": "stdout"
        }
      ]
    },
    {
      "cell_type": "markdown",
      "metadata": {
        "id": "h5smjKw7Ughr",
        "colab_type": "text"
      },
      "source": [
        "#Graphs"
      ]
    },
    {
      "cell_type": "code",
      "metadata": {
        "id": "uoa6XLULSRCp",
        "colab_type": "code",
        "colab": {}
      },
      "source": [
        "x=np.array([np.mean(i) for i in X])\n",
        "placedy=[]\n",
        "not_placedy=[]\n",
        "placedx=[]\n",
        "not_placedx=[]\n",
        "for i,c in enumerate(x):\n",
        "    if Y[i]==1:\n",
        "      placedy.append(Y[i])\n",
        "      placedx.append(c)\n",
        "    else:\n",
        "      not_placedy.append(Y[i])\n",
        "      not_placedx.append(c)\n",
        "      pass"
      ],
      "execution_count": 14,
      "outputs": []
    },
    {
      "cell_type": "code",
      "metadata": {
        "id": "UEMhgoS5Vd5T",
        "colab_type": "code",
        "colab": {
          "base_uri": "https://localhost:8080/",
          "height": 281
        },
        "outputId": "cb910ab5-2cc9-4d7b-8750-eb60bc8ae0e6"
      },
      "source": [
        "plt.title(\"Placement Graph\")\n",
        "plt.scatter(placedx,placedy,color=\"red\",label=\"Placed\")\n",
        "plt.scatter(not_placedx,not_placedy,color=\"blue\",label=\"Not Placed\")\n",
        "plt.legend()\n",
        "plt.show()"
      ],
      "execution_count": 15,
      "outputs": [
        {
          "output_type": "display_data",
          "data": {
            "image/png": "[encoded data removed]",
            "text/plain": [
              "<Figure size 432x288 with 1 Axes>"
            ]
          },
          "metadata": {
            "tags": [],
            "needs_background": "light"
          }
        }
      ]
    },
    {
      "cell_type": "markdown",
      "metadata": {
        "id": "-mk-KVtmYWra",
        "colab_type": "text"
      },
      "source": [
        "#Function which takes An Array as X and Then gives the result as if the person is placed or not\n"
      ]
    },
    {
      "cell_type": "code",
      "metadata": {
        "id": "02QzXbuWWzFb",
        "colab_type": "code",
        "colab": {}
      },
      "source": [
        "def Predict_the_placement(x):\n",
        "    X=encode_categorical_data(x)\n",
        "    X=sc.fit_transform(X)\n",
        "    ypred1=classifier.predict(X).astype(float)\n",
        "    ypred2=(regressor.predict(X)).reshape((x.shape[0],))\n",
        "    ypred1=np.array([\"placed\" if x==1 else \"not placed\" for x in ypred1])\n",
        "    ypred2=np.array([\"placed\" if x>=0.6 else \"not placed\" for x in ypred2])\n",
        "    return ypred1,ypred2\n"
      ],
      "execution_count": 71,
      "outputs": []
    },
    {
      "cell_type": "code",
      "metadata": {
        "id": "LKBsg0N2ZVXU",
        "colab_type": "code",
        "colab": {
          "base_uri": "https://localhost:8080/",
          "height": 52
        },
        "outputId": "9f09297c-aac8-4707-c13c-5b2e8433a38a"
      },
      "source": [
        "test=np.array([['M', 57.0, 'Others', 91.0, 'Others', 'Science', 58.0,\n",
        "        'Sci&Tech', 'No', 55.0, 'Mkt&Fin', 58.8],\n",
        "       ['M', 79.33, 'Central', 78.33, 'Others', 'Science', 77.48,\n",
        "        'Sci&Tech', 'Yes', 86.5, 'Mkt&Fin', 66.28],\n",
        "       ['M', 65.0, 'Central', 68.0, 'Central', 'Arts', 64.0, 'Comm&Mgmt',\n",
        "        'Yes', 75.0, 'Mkt&Fin', 57.8]])\n",
        "\n",
        "Predict_the_placement(test)"
      ],
      "execution_count": 72,
      "outputs": [
        {
          "output_type": "execute_result",
          "data": {
            "text/plain": [
              "(array(['not placed', 'placed', 'placed'], dtype='<U10'),\n",
              " array(['not placed', 'placed', 'placed'], dtype='<U10'))"
            ]
          },
          "metadata": {
            "tags": []
          },
          "execution_count": 72
        }
      ]
    },
    {
      "cell_type": "code",
      "metadata": {
        "id": "gEMYPIvfZ3Y-",
        "colab_type": "code",
        "colab": {}
      },
      "source": [
        ""
      ],
      "execution_count": null,
      "outputs": []
    }
  ]
}