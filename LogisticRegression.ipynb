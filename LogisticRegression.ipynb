{
  "nbformat": 4,
  "nbformat_minor": 0,
  "metadata": {
    "colab": {
      "name": "LogisticRegression.ipynb",
      "provenance": [],
      "authorship_tag": "ABX9TyOtwkxEZf31990UlpIIQUz8",
      "include_colab_link": true
    },
    "kernelspec": {
      "name": "python3",
      "display_name": "Python 3"
    }
  },
  "cells": [
    {
      "cell_type": "markdown",
      "metadata": {
        "id": "view-in-github",
        "colab_type": "text"
      },
      "source": [
        "<a href=\"https://colab.research.google.com/github/joseph444/ml-algos/blob/master/LogisticRegression.ipynb\" target=\"_parent\"><img src=\"https://colab.research.google.com/assets/colab-badge.svg\" alt=\"Open In Colab\"/></a>"
      ]
    },
    {
      "cell_type": "markdown",
      "metadata": {
        "id": "B4qV82dmANhG",
        "colab_type": "text"
      },
      "source": [
        "#Logistic Regression"
      ]
    },
    {
      "cell_type": "code",
      "metadata": {
        "id": "v359GV6CAV4A",
        "colab_type": "code",
        "colab": {}
      },
      "source": [
        "import numpy as np\n",
        "import matplotlib.pyplot as plt\n",
        "%matplotlib inline"
      ],
      "execution_count": 1,
      "outputs": []
    },
    {
      "cell_type": "code",
      "metadata": {
        "id": "wwIvH-R6TA_U",
        "colab_type": "code",
        "colab": {}
      },
      "source": [
        "def cost(theta,X,Y):\n",
        "    \"\"\"\n",
        "      the cost function calculates the the cost of X and Y for some Theta\n",
        "      theta : the matrix of coefficent\n",
        "      X : independent Variables\n",
        "      Y : dependent Variaable\n",
        "      returns the cost\n",
        "    \"\"\"\n",
        "    m=Y.shape[0]\n",
        "    ypred=np.dot(X,theta)\n",
        "    p1=1/(2*m)\n",
        "    p2=(ypred-Y)**2\n",
        "    m=p1*np.sum(p2)\n",
        "    return m"
      ],
      "execution_count": 2,
      "outputs": []
    },
    {
      "cell_type": "code",
      "metadata": {
        "id": "TTQHk-vhUXv2",
        "colab_type": "code",
        "colab": {}
      },
      "source": [
        "x=np.linspace(0.1,0.9,10000)\n",
        "x=np.reshape(x,(x.shape[0],1))\n",
        "y=np.abs(np.ceil(1+np.log(x)))\n"
      ],
      "execution_count": 3,
      "outputs": []
    },
    {
      "cell_type": "code",
      "metadata": {
        "id": "PibSkuYRU4zP",
        "colab_type": "code",
        "colab": {
          "base_uri": "https://localhost:8080/",
          "height": 295
        },
        "outputId": "cc7cc979-fabb-4191-d7b3-1183d320a0e7"
      },
      "source": [
        "plt.title('Our Dataset for this one',color='white')\n",
        "plt.scatter(x,y)\n",
        "plt.xlabel('X-Values',color='green')\n",
        "plt.ylabel('Y-Values',color='yellow')\n",
        "plt.show()"
      ],
      "execution_count": 4,
      "outputs": [
        {
          "output_type": "display_data",
          "data": {
            "image/png": "[encoded data removed]",
            "text/plain": [
              "<Figure size 432x288 with 1 Axes>"
            ]
          },
          "metadata": {
            "tags": [],
            "needs_background": "light"
          }
        }
      ]
    },
    {
      "cell_type": "code",
      "metadata": {
        "id": "c3jCwpp4U9tQ",
        "colab_type": "code",
        "colab": {}
      },
      "source": [
        "class LogisticRegression:\n",
        "    def __init__(self,lr=0.01,iterator=100):\n",
        "        self.lr=lr\n",
        "        self.iterator=iterator\n",
        "    def fit(self,x,y):\n",
        "        ones=np.ones((x.shape[0],1))\n",
        "        self.x=np.hstack((ones,x))\n",
        "        self.y=np.reshape(y,(y.shape[0],1))\n",
        "        self.xT=np.transpose(self.x)\n",
        "        self._x=x\n",
        "        self.regression()\n",
        "\n",
        "    def regression(self):\n",
        "        p1=np.dot(self.xT,self.x)\n",
        "        p2=np.dot(self.xT,self.y)\n",
        "        self.theta=np.dot(np.linalg.inv(p1),p2)\n",
        "        self._train()\n",
        "\n",
        "    def _pred(self):\n",
        "        return np.dot(self.x,self.theta)\n",
        "\n",
        "    def _train(self):\n",
        "        self.theta_history=list()\n",
        "        self.cost_history=list()\n",
        "        for i in range(self.iterator):\n",
        "            self.theta_history.append(self.theta)\n",
        "            self.cost_history.append(cost(self.theta,self.x,self.y))\n",
        "            ypred=self._pred()\n",
        "            m=self.y.shape[0]\n",
        "            p1=self.lr/m\n",
        "            q=ypred-self.y\n",
        "            p2=np.dot(np.transpose(q),q)\n",
        "            self.theta=self.theta-(p1*p2)\n",
        "    def sigmoid(self,x):\n",
        "        self.ypred=np.dot(x,self.theta)\n",
        "        self.p= 1/((1 + np.exp(-self.ypred))) \n",
        "    \n",
        "    def predict(self,x):\n",
        "        ones=np.ones((x.shape[0],1))\n",
        "        X=np.hstack((ones,x))\n",
        "        self.sigmoid(X)\n",
        "        return self.p\n",
        "            "
      ],
      "execution_count": 35,
      "outputs": []
    },
    {
      "cell_type": "code",
      "metadata": {
        "id": "LmiQRiKmbolG",
        "colab_type": "code",
        "colab": {}
      },
      "source": [
        "classifier=LogisticRegression()\n",
        "classifier.fit(x,y)"
      ],
      "execution_count": 36,
      "outputs": []
    },
    {
      "cell_type": "code",
      "metadata": {
        "id": "S7PnU7kZb0J0",
        "colab_type": "code",
        "colab": {}
      },
      "source": [
        "from sklearn.model_selection import train_test_split\n",
        "xtrain,xtest,ytrain,ytest=train_test_split(x,y)\n"
      ],
      "execution_count": 37,
      "outputs": []
    },
    {
      "cell_type": "code",
      "metadata": {
        "id": "9uSkjTBsb2Qy",
        "colab_type": "code",
        "colab": {}
      },
      "source": [
        "ypred=classifier.predict(xtest)"
      ],
      "execution_count": 39,
      "outputs": []
    },
    {
      "cell_type": "code",
      "metadata": {
        "id": "GS1N9ziTknhl",
        "colab_type": "code",
        "colab": {
          "base_uri": "https://localhost:8080/",
          "height": 265
        },
        "outputId": "903e2201-9f95-4204-e79d-0da2164f05f6"
      },
      "source": [
        "plt.scatter(xtest,ytest)\n",
        "plt.plot(xtest,ypred,color=\"red\")\n",
        "plt.show()\n"
      ],
      "execution_count": 40,
      "outputs": [
        {
          "output_type": "display_data",
          "data": {
            "image/png": "[encoded data removed]",
            "text/plain": [
              "<Figure size 432x288 with 1 Axes>"
            ]
          },
          "metadata": {
            "tags": [],
            "needs_background": "light"
          }
        }
      ]
    },
    {
      "cell_type": "code",
      "metadata": {
        "id": "DcUg7zhdkxMA",
        "colab_type": "code",
        "colab": {
          "base_uri": "https://localhost:8080/",
          "height": 140
        },
        "outputId": "687ffe42-8ca7-42e6-d26c-f541c9f1816b"
      },
      "source": [
        "classifier.ypred"
      ],
      "execution_count": 41,
      "outputs": [
        {
          "output_type": "execute_result",
          "data": {
            "text/plain": [
              "array([[0.53376143],\n",
              "       [0.11402367],\n",
              "       [0.23242391],\n",
              "       ...,\n",
              "       [0.63288952],\n",
              "       [0.08210106],\n",
              "       [0.90546705]])"
            ]
          },
          "metadata": {
            "tags": []
          },
          "execution_count": 41
        }
      ]
    },
    {
      "cell_type": "code",
      "metadata": {
        "id": "6Tj78X6Hnsc8",
        "colab_type": "code",
        "colab": {}
      },
      "source": [
        ""
      ],
      "execution_count": null,
      "outputs": []
    }
  ]
}