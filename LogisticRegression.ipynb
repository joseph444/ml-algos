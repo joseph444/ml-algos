{
  "nbformat": 4,
  "nbformat_minor": 0,
  "metadata": {
    "colab": {
      "name": "LogisticRegression.ipynb",
      "provenance": [],
      "authorship_tag": "ABX9TyNwNAdc/1M+0ocxGzPxLlf+",
      "include_colab_link": true
    },
    "kernelspec": {
      "name": "python3",
      "display_name": "Python 3"
    }
  },
  "cells": [
    {
      "cell_type": "markdown",
      "metadata": {
        "id": "view-in-github",
        "colab_type": "text"
      },
      "source": [
        "<a href=\"https://colab.research.google.com/github/joseph444/ml-algos/blob/master/LogisticRegression.ipynb\" target=\"_parent\"><img src=\"https://colab.research.google.com/assets/colab-badge.svg\" alt=\"Open In Colab\"/></a>"
      ]
    },
    {
      "cell_type": "markdown",
      "metadata": {
        "id": "B4qV82dmANhG",
        "colab_type": "text"
      },
      "source": [
        "#Logistic Regression"
      ]
    },
    {
      "cell_type": "code",
      "metadata": {
        "id": "v359GV6CAV4A",
        "colab_type": "code",
        "colab": {}
      },
      "source": [
        "import numpy as np\n",
        "import matplotlib.pyplot as plt\n",
        "from scipy.optimize import fmin_tnc\n",
        "%matplotlib inline"
      ],
      "execution_count": 1,
      "outputs": []
    },
    {
      "cell_type": "code",
      "metadata": {
        "id": "QrlzSLEdZ8YI",
        "colab_type": "code",
        "colab": {}
      },
      "source": [
        "\"\"\"\n",
        "Creating a function which will map all the values from 0-1 into two class\n",
        "class-1 if x >threshold\n",
        "else class0\n",
        "\"\"\"\n",
        "def zero_or_one(x,threshold=0.5):\n",
        "    \"\"\"\n",
        "      x: is a value \n",
        "      threshold: is the midvalue of threshold\n",
        "      returns 1 or 0 based on the condition\n",
        "    \"\"\"\n",
        "    if x>threshold:\n",
        "        return 1\n",
        "    else:\n",
        "        return 0"
      ],
      "execution_count": 2,
      "outputs": []
    },
    {
      "cell_type": "markdown",
      "metadata": {
        "id": "P_7YliMuZqpW",
        "colab_type": "text"
      },
      "source": [
        "#Creating a Dataset\n"
      ]
    },
    {
      "cell_type": "code",
      "metadata": {
        "id": "I36TSSmRZjU_",
        "colab_type": "code",
        "colab": {}
      },
      "source": [
        "x=np.linspace(1,100,100)\n",
        "x=x.reshape((100,1))\n",
        "y=np.linspace(0,1,100)\n",
        "np.random.shuffle(y)\n",
        "np.random.shuffle(y)\n",
        "np.random.shuffle(y)\n",
        "y=y.reshape((100,1))"
      ],
      "execution_count": 3,
      "outputs": []
    },
    {
      "cell_type": "markdown",
      "metadata": {
        "id": "82dKblf-bcwm",
        "colab_type": "text"
      },
      "source": [
        "#Plotting Against X and Y where Y will be divided into class 1 and class 0\n",
        "\n"
      ]
    },
    {
      "cell_type": "code",
      "metadata": {
        "id": "IYsX1mhhbTUo",
        "colab_type": "code",
        "colab": {
          "base_uri": "https://localhost:8080/",
          "height": 281
        },
        "outputId": "0b309909-a9f5-4fac-c794-f114ee8ca7ed"
      },
      "source": [
        "class_1y=[]\n",
        "class_0y=[]\n",
        "class_1x=[]\n",
        "class_0x=[]\n",
        "for i in range(100):\n",
        "    if y[i]<=0.5:\n",
        "        class_0y.append(y[i])\n",
        "        class_0x.append(x[i])\n",
        "    else:\n",
        "        class_1y.append(y[i])\n",
        "        class_1x.append(x[i])\n",
        "\n",
        "plt.title(\"X vs Y\")\n",
        "plt.scatter(class_0x,class_0y,label=\"class-0\",color=\"blue\")\n",
        "plt.scatter(class_1x,class_1y,label=\"class-1\",color=\"red\")\n",
        "plt.legend()\n",
        "plt.show()"
      ],
      "execution_count": 4,
      "outputs": [
        {
          "output_type": "display_data",
          "data": {
            "image/png": "[encoded data removed]",
            "text/plain": [
              "<Figure size 432x288 with 1 Axes>"
            ]
          },
          "metadata": {
            "tags": [],
            "needs_background": "light"
          }
        }
      ]
    },
    {
      "cell_type": "code",
      "metadata": {
        "id": "UxRoEL6Vb3P7",
        "colab_type": "code",
        "colab": {}
      },
      "source": [
        "#Scaling the x\n",
        "from sklearn.preprocessing import StandardScaler\n",
        "sc=StandardScaler()\n",
        "X=sc.fit_transform(x)"
      ],
      "execution_count": 5,
      "outputs": []
    },
    {
      "cell_type": "code",
      "metadata": {
        "id": "Bz8SuoiSfh8j",
        "colab_type": "code",
        "colab": {}
      },
      "source": [
        "class LogisticRegression:\n",
        "      @staticmethod\n",
        "      def sigmoid(x):\n",
        "          \"\"\"\n",
        "          x: an numpy array\n",
        "          returns the result as an array\n",
        "          \"\"\"\n",
        "          return 1/(1+np.exp(-x))\n",
        "      \n",
        "      @staticmethod\n",
        "      def net_input(theta,x):\n",
        "          return np.dot(x,theta)\n",
        "\n",
        "      def probability(self,x,theta):\n",
        "          return self.sigmoid(self.net_input(theta,x))\n",
        "    \n",
        "      def cost(self,theta,x,y):\n",
        "          \"\"\"\n",
        "          Computes the cost of the Logistic regression\n",
        "          x: is the array of independentVariable\n",
        "          y: is the array of dependent variable\n",
        "          theta is the coeffiecnet matrix\n",
        "          m is the no of samples\n",
        "          returns the cost of the current classification\n",
        "          \"\"\"\n",
        "          m=x.shape[0]\n",
        "          p1=-(1/m)\n",
        "          q1=y*np.log(self.probability(x,theta))+(1-y)*np.log(1-self.probability(x,theta))\n",
        "          p2=np.sum(q1)\n",
        "          total_cost= p1*p2\n",
        "          return total_cost\n",
        "      \n",
        "      def gradient(self,theta,x,y):\n",
        "          \"\"\"\n",
        "          Calculates the gradient of the cost function\n",
        "          x: is the array of independentVariable\n",
        "          y: is the array of dependent variable\n",
        "          theta is the coeffiecnet matrix\n",
        "          m is the no of samples\n",
        "          returns the local minima of the current cost function\n",
        "          \"\"\"\n",
        "          m=x.shape[0]\n",
        "          dj=(1/m)*np.dot(x.T,(self.sigmoid(self.net_input(theta,x))-y))\n",
        "          return dj\n",
        "      def getTheta(self,x,y):\n",
        "          \"\"\"\n",
        "          calculates the regressional coefficient \n",
        "          x: the array of independent variables\n",
        "          y: the array of dependent variables\n",
        "          returns Theta\n",
        "          \"\"\"\n",
        "          p1=np.linalg.inv(np.dot(x.T,x))\n",
        "          p2=np.dot(x.T,y)\n",
        "          theta=np.dot(p1,p2)\n",
        "          return theta\n",
        "     \n",
        "\n",
        "\n",
        "      def fit(self,x,y):\n",
        "          \"\"\"\n",
        "          we will fetch the minima of the cost for the provided x and y and then tracing back to the weight fo the variables will give us the reqired values\n",
        "          \"\"\"\n",
        "          ones=np.ones((x.shape[0],1))\n",
        "          X=np.hstack((ones,x))\n",
        "          y=y[:,np.newaxis]\n",
        "          theta=np.zeros((X.shape[1],1))\n",
        "          m=y.shape[0]\n",
        "          self.weight=fmin_tnc(func=self.cost,x0=theta,fprime=self.gradient,args=(X,y.flatten()))[0]\n",
        "      \n",
        "      def predict(self,x):\n",
        "          theta=self.weight[:,np.newaxis]\n",
        "          ones=np.ones((x.shape[0],1))\n",
        "          X=np.hstack((ones,x))\n",
        "          return self.probability(X,theta)\n",
        "      def accuracy(self,x,y,threshold=0.5):\n",
        "          predicted_class=(self.predict(x)>=threshold).astype(int)\n",
        "          predicted_class=predicted_class.flatten()\n",
        "          actual_class=(y>=threshold).astype(int)\n",
        "          actual_class=actual_class.flatten()\n",
        "          accuracy=np.mean(predicted_class==actual_class)\n",
        "          return accuracy*100\n",
        "\n",
        "          \n",
        "\n"
      ],
      "execution_count": 6,
      "outputs": []
    },
    {
      "cell_type": "code",
      "metadata": {
        "id": "0BCgH2QXfjH3",
        "colab_type": "code",
        "colab": {}
      },
      "source": [
        "classifier=LogisticRegression()\n",
        "classifier.fit(X,y)\n"
      ],
      "execution_count": 7,
      "outputs": []
    },
    {
      "cell_type": "code",
      "metadata": {
        "id": "CjfGLXE3pjPH",
        "colab_type": "code",
        "colab": {}
      },
      "source": [
        "m=classifier.predict(X)"
      ],
      "execution_count": 12,
      "outputs": []
    },
    {
      "cell_type": "code",
      "metadata": {
        "id": "ImlMUfFpw4aw",
        "colab_type": "code",
        "colab": {
          "base_uri": "https://localhost:8080/",
          "height": 34
        },
        "outputId": "9d58fce6-b88f-450e-ef36-fbe95e84ef83"
      },
      "source": [
        "classifier.accuracy(X,y.flatten())"
      ],
      "execution_count": 9,
      "outputs": [
        {
          "output_type": "execute_result",
          "data": {
            "text/plain": [
              "57.99999999999999"
            ]
          },
          "metadata": {
            "tags": []
          },
          "execution_count": 9
        }
      ]
    },
    {
      "cell_type": "code",
      "metadata": {
        "id": "_hJE-lJa3e99",
        "colab_type": "code",
        "colab": {
          "base_uri": "https://localhost:8080/",
          "height": 281
        },
        "outputId": "aa7ef9a7-78b0-40c3-9fe5-6e10e04af9c4"
      },
      "source": [
        "class_1y=[]\n",
        "class_0y=[]\n",
        "class_1x=[]\n",
        "class_0x=[]\n",
        "for i in range(100):\n",
        "    if y[i]<=0.5:\n",
        "        class_0y.append(y[i])\n",
        "        class_0x.append(x[i])\n",
        "    else:\n",
        "        class_1y.append(y[i])\n",
        "        class_1x.append(x[i])\n",
        "\n",
        "plt.title(\"X vs Y\")\n",
        "plt.scatter(class_0x,class_0y,label=\"class-0\",color=\"blue\")\n",
        "plt.scatter(class_1x,class_1y,label=\"class-1\",color=\"red\")\n",
        "plt.plot(x,classifier.predict(X),color=\"black\")\n",
        "plt.legend()\n",
        "plt.show()"
      ],
      "execution_count": 11,
      "outputs": [
        {
          "output_type": "display_data",
          "data": {
            "image/png": "[encoded data removed]",
            "text/plain": [
              "<Figure size 432x288 with 1 Axes>"
            ]
          },
          "metadata": {
            "tags": [],
            "needs_background": "light"
          }
        }
      ]
    },
    {
      "cell_type": "markdown",
      "metadata": {
        "id": "7u_H72Pq4fnb",
        "colab_type": "text"
      },
      "source": [
        "#Logistic regression helps us to classify between two groups that is if we have class A and Class B and let th be the threshold between both of them then logistic regression helps us to draw aline between those two classes so that we can classify it"
      ]
    },
    {
      "cell_type": "code",
      "metadata": {
        "id": "dSMX6gt05Lys",
        "colab_type": "code",
        "colab": {
          "base_uri": "https://localhost:8080/",
          "height": 34
        },
        "outputId": "dd7dd916-95b8-41b6-9987-0a6bc9d93c7e"
      },
      "source": [
        "from sklearn.model_selection import train_test_split\n",
        "xtrain,xtest,ytrain,ytest=train_test_split(X,y)\n",
        "ypred=classifier.predict(xtest)\n",
        "classifier.accuracy(xtest,ytest.flatten())"
      ],
      "execution_count": 13,
      "outputs": [
        {
          "output_type": "execute_result",
          "data": {
            "text/plain": [
              "60.0"
            ]
          },
          "metadata": {
            "tags": []
          },
          "execution_count": 13
        }
      ]
    },
    {
      "cell_type": "code",
      "metadata": {
        "id": "SQ-qIE4r55FK",
        "colab_type": "code",
        "colab": {
          "base_uri": "https://localhost:8080/",
          "height": 458
        },
        "outputId": "21a67ab8-0678-440e-dcd7-c1571358419b"
      },
      "source": [
        "xtest"
      ],
      "execution_count": 15,
      "outputs": [
        {
          "output_type": "execute_result",
          "data": {
            "text/plain": [
              "array([[ 1.33374581],\n",
              "       [-0.32910611],\n",
              "       [ 1.29910306],\n",
              "       [ 1.71481604],\n",
              "       [-0.19053512],\n",
              "       [ 0.19053512],\n",
              "       [ 1.5416023 ],\n",
              "       [-0.6062481 ],\n",
              "       [ 0.43303435],\n",
              "       [ 0.15589237],\n",
              "       [-1.26446031],\n",
              "       [ 1.12588932],\n",
              "       [-0.22517786],\n",
              "       [ 0.25982061],\n",
              "       [-0.29446336],\n",
              "       [-0.81410459],\n",
              "       [ 0.71017634],\n",
              "       [-0.12124962],\n",
              "       [-0.25982061],\n",
              "       [-0.67553359],\n",
              "       [-1.40303131],\n",
              "       [ 1.50695955],\n",
              "       [-0.08660687],\n",
              "       [ 0.22517786],\n",
              "       [-1.68017329]])"
            ]
          },
          "metadata": {
            "tags": []
          },
          "execution_count": 15
        }
      ]
    },
    {
      "cell_type": "code",
      "metadata": {
        "id": "N74_0wYe6M4G",
        "colab_type": "code",
        "colab": {
          "base_uri": "https://localhost:8080/",
          "height": 52
        },
        "outputId": "48cd4d2a-d252-4a60-ce5d-c7fe77ff76ce"
      },
      "source": [
        "array=[[ 78.],\n",
        "       [10.]]\n",
        "\n",
        "test=np.array(array)\n",
        "test=sc.fit_transform(test)\n",
        "classifier.predict(test)\n"
      ],
      "execution_count": 29,
      "outputs": [
        {
          "output_type": "execute_result",
          "data": {
            "text/plain": [
              "array([[0.557548],\n",
              "       [0.442452]])"
            ]
          },
          "metadata": {
            "tags": []
          },
          "execution_count": 29
        }
      ]
    },
    {
      "cell_type": "code",
      "metadata": {
        "id": "Z88v7l-j7TUK",
        "colab_type": "code",
        "colab": {
          "base_uri": "https://localhost:8080/",
          "height": 52
        },
        "outputId": "cc3983e4-4c7e-4f95-9e4d-8e6d3b1da117"
      },
      "source": [
        "print(y[77])\n",
        "print(y[9])"
      ],
      "execution_count": 30,
      "outputs": [
        {
          "output_type": "stream",
          "text": [
            "[0.08080808]\n",
            "[0.52525253]\n"
          ],
          "name": "stdout"
        }
      ]
    },
    {
      "cell_type": "code",
      "metadata": {
        "id": "QWw5DwnJ7XBT",
        "colab_type": "code",
        "colab": {
          "base_uri": "https://localhost:8080/",
          "height": 34
        },
        "outputId": "31421496-7284-4973-e3b5-8f05015509f9"
      },
      "source": [
        "x[22]"
      ],
      "execution_count": 25,
      "outputs": [
        {
          "output_type": "execute_result",
          "data": {
            "text/plain": [
              "array([23.])"
            ]
          },
          "metadata": {
            "tags": []
          },
          "execution_count": 25
        }
      ]
    },
    {
      "cell_type": "code",
      "metadata": {
        "id": "CvZN0-0m75uo",
        "colab_type": "code",
        "colab": {}
      },
      "source": [
        ""
      ],
      "execution_count": null,
      "outputs": []
    }
  ]
}