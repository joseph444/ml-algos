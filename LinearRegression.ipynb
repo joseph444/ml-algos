{
  "nbformat": 4,
  "nbformat_minor": 0,
  "metadata": {
    "colab": {
      "name": "LinearRegression.ipynb",
      "provenance": [],
      "collapsed_sections": [],
      "authorship_tag": "ABX9TyNVVzfOshhO9vt9z4znLzVF",
      "include_colab_link": true
    },
    "kernelspec": {
      "name": "python3",
      "display_name": "Python 3"
    }
  },
  "cells": [
    {
      "cell_type": "markdown",
      "metadata": {
        "id": "view-in-github",
        "colab_type": "text"
      },
      "source": [
        "<a href=\"https://colab.research.google.com/github/joseph444/ml-algos/blob/master/LinearRegression.ipynb\" target=\"_parent\"><img src=\"https://colab.research.google.com/assets/colab-badge.svg\" alt=\"Open In Colab\"/></a>"
      ]
    },
    {
      "cell_type": "markdown",
      "metadata": {
        "id": "IJEq2-69-OoN",
        "colab_type": "text"
      },
      "source": [
        "<h1>Linear Regression Using Closed Form Solution and gradient Descent formula for accuracy </h1>\n"
      ]
    },
    {
      "cell_type": "code",
      "metadata": {
        "id": "F7-1ujfw_eX6",
        "colab_type": "code",
        "colab": {}
      },
      "source": [
        "import numpy as np\n",
        "import math as mt"
      ],
      "execution_count": 1,
      "outputs": []
    },
    {
      "cell_type": "code",
      "metadata": {
        "id": "PzcQr5vA-wxt",
        "colab_type": "code",
        "colab": {}
      },
      "source": [
        "#class linear regression\n",
        "class LinearRegression:\n",
        "\n",
        "    def __init__(self,epoc=100000,lr=0.003):\n",
        "        #lr is the learning rate \n",
        "        self.lr=lr\n",
        "        #no of times gradient Desent will be working\n",
        "        self.epoc=epoc\n",
        "\n",
        "        self.loss_history=[]\n",
        "        pass\n",
        "    def polyFit(self,X,Y,n):\n",
        "        '''\n",
        "          X: numpy array\n",
        "          Y: nump array\n",
        "          n: highest power\n",
        "        '''\n",
        "        self.X=np.ones((X.shape[0],1))\n",
        "        for i in range(1,n+1):\n",
        "            self.X=np.hstack((self.X,X**i))\n",
        "        self.Y=np.reshape(Y,(Y.shape[0],1))\n",
        "        self.Xt=np.transpose(self.X)\n",
        "        self._X=X\n",
        "        self._regression()\n",
        "        self.n=n\n",
        "\n",
        "    def fit(self,X,Y):\n",
        "        '''\n",
        "          X: numpy array\n",
        "          Y: nump array\n",
        "         \n",
        "        '''\n",
        "        ones=np.ones((X.shape[0],1))\n",
        "        self.X=np.hstack((ones,X))\n",
        "        self.Y=np.reshape(Y,(Y.shape[0],1))\n",
        "        self.Xt=np.transpose(self.X)\n",
        "        self._X=X\n",
        "        self._regression()\n",
        "        pass\n",
        "    def _regression(self):\n",
        "        '''\n",
        "          this function uses the closed form solution of linear regression to calculate the regression\n",
        "        '''\n",
        "        self.omega=np.random.uniform(-1,1,size=(self.X.shape[1],1))#this is the regression coefficient\n",
        "        self._train()\n",
        "        pass\n",
        "    def gradient(self,delta):\n",
        "        ''' \n",
        "          it calculates the gradient and modifies the omega accoring to it\n",
        "        '''\n",
        "        self.omega=self.omega-self.lr*np.dot(self.Xt,delta)\n",
        "    def predictY(self):\n",
        "        '''\n",
        "          returns the predicted value of training data\n",
        "        '''\n",
        "        return np.dot(self.X,self.omega)\n",
        "        pass\n",
        "    def RMSE(self):\n",
        "        \"\"\"\n",
        "          ROOT MEAN SQUARE to calculate the root mean square of the predicted value\n",
        "        \"\"\"\n",
        "        M=(self.predictY()-self.Y)**2\n",
        "        x=np.mean(M)\n",
        "        return mt.sqrt(x)\n",
        "    def _train(self):\n",
        "        \"\"\"\n",
        "          this runs the loop for running the epoc loop and modifying the gradient\n",
        "        \"\"\"\n",
        "        count=0\n",
        "        for i in range(self.epoc):\n",
        "            n=self.X.shape[0]\n",
        "            delta=self.predictY()-self.Y\n",
        "            loss=np.sum((delta)**2)/2/n\n",
        "            self.loss_history.append(loss)\n",
        "            delta=delta/n\n",
        "            self.gradient(delta)\n",
        "            \n",
        "\n",
        "        pass\n",
        "    def PolyPredict(self,X):\n",
        "        \"\"\"\n",
        "          Predict function for the poly Regression returns Predicted Value from X\n",
        "        \"\"\"\n",
        "        _X=np.ones((X.shape[0],1))\n",
        "        for i in range(1,self.n+1):\n",
        "            _X=np.hstack((_X,_X**i))\n",
        "        return np.dot(_X,self.omega)\n",
        "    def predict(self,X):\n",
        "        \"\"\"\n",
        "          Predict function for the Regression returns Predicted Value from X\n",
        "        \"\"\"\n",
        "        ones=np.ones((X.shape[0],1))\n",
        "        _X=np.hstack((ones,X))\n",
        "        return np.dot(_X,self.omega)\n",
        "    def accuracy(self,y,ypred):\n",
        "      ymean=np.mean(y)\n",
        "      m=(y-ypred)**2\n",
        "      n=(y-ymean)**2\n",
        "      r=1-(np.sum(m)/np.sum(n))\n",
        "      return r\n"
      ],
      "execution_count": 2,
      "outputs": []
    },
    {
      "cell_type": "code",
      "metadata": {
        "id": "KZYPn9-TDpSk",
        "colab_type": "code",
        "colab": {}
      },
      "source": [
        "lmodel=LinearRegression()\n"
      ],
      "execution_count": 3,
      "outputs": []
    },
    {
      "cell_type": "code",
      "metadata": {
        "id": "XdATE56wD2Wg",
        "colab_type": "code",
        "colab": {}
      },
      "source": [
        "no_of_rows=1000\n",
        "x1=np.random.uniform(-1,1,size=(no_of_rows,1))\n",
        "x2=np.random.uniform(-1,2,size=(no_of_rows,1))\n",
        "x=np.column_stack((x1,x1,x2))\n",
        "noise=np.random.uniform(-1,1,size=(no_of_rows,1))\n",
        "y=-0.63*x1+4*x2+100*x1+7+noise"
      ],
      "execution_count": 4,
      "outputs": []
    },
    {
      "cell_type": "code",
      "metadata": {
        "id": "k0WaborSEgVV",
        "colab_type": "code",
        "colab": {}
      },
      "source": [
        "lmodel.fit(x,y)"
      ],
      "execution_count": 5,
      "outputs": []
    },
    {
      "cell_type": "code",
      "metadata": {
        "id": "twMsFdlkE8zo",
        "colab_type": "code",
        "colab": {
          "base_uri": "https://localhost:8080/",
          "height": 87
        },
        "outputId": "ccc56929-201b-4577-d735-148466751d46"
      },
      "source": [
        "lmodel.omega"
      ],
      "execution_count": 7,
      "outputs": [
        {
          "output_type": "execute_result",
          "data": {
            "text/plain": [
              "array([[ 7.00299027],\n",
              "       [49.64002839],\n",
              "       [49.71008045],\n",
              "       [ 4.01262978]])"
            ]
          },
          "metadata": {
            "tags": []
          },
          "execution_count": 7
        }
      ]
    },
    {
      "cell_type": "code",
      "metadata": {
        "id": "23uhdsRxHzvT",
        "colab_type": "code",
        "colab": {}
      },
      "source": [
        "x1_test=np.random.uniform(-1,1,size=(100,1))\n",
        "x2_test=np.random.uniform(-1,2,size=(100,1))\n",
        "x_test=np.column_stack((x1_test,x1_test,x2_test))\n",
        "noise=np.random.uniform(-1,1,size=(100,1))\n",
        "y_test=-0.63*x1_test+4*x2_test+100*x1_test+7+noise"
      ],
      "execution_count": 8,
      "outputs": []
    },
    {
      "cell_type": "code",
      "metadata": {
        "id": "YTH8_pU6ITmf",
        "colab_type": "code",
        "colab": {}
      },
      "source": [
        "ypred=lmodel.predict(x_test)"
      ],
      "execution_count": 9,
      "outputs": []
    },
    {
      "cell_type": "code",
      "metadata": {
        "id": "HnAbYghaIXeT",
        "colab_type": "code",
        "colab": {
          "base_uri": "https://localhost:8080/",
          "height": 34
        },
        "outputId": "3c5d41c4-65b6-448a-b6ab-b244dfeab765"
      },
      "source": [
        "lmodel.accuracy(y_test,ypred)"
      ],
      "execution_count": 10,
      "outputs": [
        {
          "output_type": "execute_result",
          "data": {
            "text/plain": [
              "0.9998969117520252"
            ]
          },
          "metadata": {
            "tags": []
          },
          "execution_count": 10
        }
      ]
    },
    {
      "cell_type": "markdown",
      "metadata": {
        "id": "685OfhMVIrhP",
        "colab_type": "text"
      },
      "source": [
        "# Time to Test It On a real Dataset"
      ]
    },
    {
      "cell_type": "code",
      "metadata": {
        "id": "c9qvWI9cIejI",
        "colab_type": "code",
        "colab": {}
      },
      "source": [
        "import pandas as pd"
      ],
      "execution_count": 11,
      "outputs": []
    },
    {
      "cell_type": "code",
      "metadata": {
        "id": "bCM4OfLCI1UU",
        "colab_type": "code",
        "colab": {
          "base_uri": "https://localhost:8080/",
          "height": 222
        },
        "outputId": "1d0681af-7f82-4ec6-a3d6-a70e7a0a8067"
      },
      "source": [
        "dataset=pd.read_csv(\"kc_house_data.csv\")\n",
        "dataset.head()"
      ],
      "execution_count": 12,
      "outputs": [
        {
          "output_type": "execute_result",
          "data": {
            "text/html": [
              "<div>\n",
              "<style scoped>\n",
              "    .dataframe tbody tr th:only-of-type {\n",
              "        vertical-align: middle;\n",
              "    }\n",
              "\n",
              "    .dataframe tbody tr th {\n",
              "        vertical-align: top;\n",
              "    }\n",
              "\n",
              "    .dataframe thead th {\n",
              "        text-align: right;\n",
              "    }\n",
              "</style>\n",
              "<table border=\"1\" class=\"dataframe\">\n",
              "  <thead>\n",
              "    <tr style=\"text-align: right;\">\n",
              "      <th></th>\n",
              "      <th>id</th>\n",
              "      <th>date</th>\n",
              "      <th>price</th>\n",
              "      <th>bedrooms</th>\n",
              "      <th>bathrooms</th>\n",
              "      <th>sqft_living</th>\n",
              "      <th>sqft_lot</th>\n",
              "      <th>floors</th>\n",
              "      <th>waterfront</th>\n",
              "      <th>view</th>\n",
              "      <th>condition</th>\n",
              "      <th>grade</th>\n",
              "      <th>sqft_above</th>\n",
              "      <th>sqft_basement</th>\n",
              "      <th>yr_built</th>\n",
              "      <th>yr_renovated</th>\n",
              "      <th>zipcode</th>\n",
              "      <th>lat</th>\n",
              "      <th>long</th>\n",
              "      <th>sqft_living15</th>\n",
              "      <th>sqft_lot15</th>\n",
              "    </tr>\n",
              "  </thead>\n",
              "  <tbody>\n",
              "    <tr>\n",
              "      <th>0</th>\n",
              "      <td>7129300520</td>\n",
              "      <td>20141013T000000</td>\n",
              "      <td>221900.0</td>\n",
              "      <td>3</td>\n",
              "      <td>1.00</td>\n",
              "      <td>1180</td>\n",
              "      <td>5650</td>\n",
              "      <td>1.0</td>\n",
              "      <td>0</td>\n",
              "      <td>0</td>\n",
              "      <td>3</td>\n",
              "      <td>7</td>\n",
              "      <td>1180</td>\n",
              "      <td>0</td>\n",
              "      <td>1955</td>\n",
              "      <td>0</td>\n",
              "      <td>98178</td>\n",
              "      <td>47.5112</td>\n",
              "      <td>-122.257</td>\n",
              "      <td>1340</td>\n",
              "      <td>5650</td>\n",
              "    </tr>\n",
              "    <tr>\n",
              "      <th>1</th>\n",
              "      <td>6414100192</td>\n",
              "      <td>20141209T000000</td>\n",
              "      <td>538000.0</td>\n",
              "      <td>3</td>\n",
              "      <td>2.25</td>\n",
              "      <td>2570</td>\n",
              "      <td>7242</td>\n",
              "      <td>2.0</td>\n",
              "      <td>0</td>\n",
              "      <td>0</td>\n",
              "      <td>3</td>\n",
              "      <td>7</td>\n",
              "      <td>2170</td>\n",
              "      <td>400</td>\n",
              "      <td>1951</td>\n",
              "      <td>1991</td>\n",
              "      <td>98125</td>\n",
              "      <td>47.7210</td>\n",
              "      <td>-122.319</td>\n",
              "      <td>1690</td>\n",
              "      <td>7639</td>\n",
              "    </tr>\n",
              "    <tr>\n",
              "      <th>2</th>\n",
              "      <td>5631500400</td>\n",
              "      <td>20150225T000000</td>\n",
              "      <td>180000.0</td>\n",
              "      <td>2</td>\n",
              "      <td>1.00</td>\n",
              "      <td>770</td>\n",
              "      <td>10000</td>\n",
              "      <td>1.0</td>\n",
              "      <td>0</td>\n",
              "      <td>0</td>\n",
              "      <td>3</td>\n",
              "      <td>6</td>\n",
              "      <td>770</td>\n",
              "      <td>0</td>\n",
              "      <td>1933</td>\n",
              "      <td>0</td>\n",
              "      <td>98028</td>\n",
              "      <td>47.7379</td>\n",
              "      <td>-122.233</td>\n",
              "      <td>2720</td>\n",
              "      <td>8062</td>\n",
              "    </tr>\n",
              "    <tr>\n",
              "      <th>3</th>\n",
              "      <td>2487200875</td>\n",
              "      <td>20141209T000000</td>\n",
              "      <td>604000.0</td>\n",
              "      <td>4</td>\n",
              "      <td>3.00</td>\n",
              "      <td>1960</td>\n",
              "      <td>5000</td>\n",
              "      <td>1.0</td>\n",
              "      <td>0</td>\n",
              "      <td>0</td>\n",
              "      <td>5</td>\n",
              "      <td>7</td>\n",
              "      <td>1050</td>\n",
              "      <td>910</td>\n",
              "      <td>1965</td>\n",
              "      <td>0</td>\n",
              "      <td>98136</td>\n",
              "      <td>47.5208</td>\n",
              "      <td>-122.393</td>\n",
              "      <td>1360</td>\n",
              "      <td>5000</td>\n",
              "    </tr>\n",
              "    <tr>\n",
              "      <th>4</th>\n",
              "      <td>1954400510</td>\n",
              "      <td>20150218T000000</td>\n",
              "      <td>510000.0</td>\n",
              "      <td>3</td>\n",
              "      <td>2.00</td>\n",
              "      <td>1680</td>\n",
              "      <td>8080</td>\n",
              "      <td>1.0</td>\n",
              "      <td>0</td>\n",
              "      <td>0</td>\n",
              "      <td>3</td>\n",
              "      <td>8</td>\n",
              "      <td>1680</td>\n",
              "      <td>0</td>\n",
              "      <td>1987</td>\n",
              "      <td>0</td>\n",
              "      <td>98074</td>\n",
              "      <td>47.6168</td>\n",
              "      <td>-122.045</td>\n",
              "      <td>1800</td>\n",
              "      <td>7503</td>\n",
              "    </tr>\n",
              "  </tbody>\n",
              "</table>\n",
              "</div>"
            ],
            "text/plain": [
              "           id             date     price  ...     long  sqft_living15  sqft_lot15\n",
              "0  7129300520  20141013T000000  221900.0  ... -122.257           1340        5650\n",
              "1  6414100192  20141209T000000  538000.0  ... -122.319           1690        7639\n",
              "2  5631500400  20150225T000000  180000.0  ... -122.233           2720        8062\n",
              "3  2487200875  20141209T000000  604000.0  ... -122.393           1360        5000\n",
              "4  1954400510  20150218T000000  510000.0  ... -122.045           1800        7503\n",
              "\n",
              "[5 rows x 21 columns]"
            ]
          },
          "metadata": {
            "tags": []
          },
          "execution_count": 12
        }
      ]
    },
    {
      "cell_type": "code",
      "metadata": {
        "id": "ZrwcOj8fJAlG",
        "colab_type": "code",
        "colab": {}
      },
      "source": [
        "X=dataset.iloc[:,3:15].values"
      ],
      "execution_count": 13,
      "outputs": []
    },
    {
      "cell_type": "code",
      "metadata": {
        "id": "LkS8b6xiJF1R",
        "colab_type": "code",
        "colab": {}
      },
      "source": [
        "Y=dataset.iloc[:,2].values\n",
        "Y=Y.reshape((Y.shape[0],1))"
      ],
      "execution_count": 14,
      "outputs": []
    },
    {
      "cell_type": "code",
      "metadata": {
        "id": "bagcRBgAJM7E",
        "colab_type": "code",
        "colab": {}
      },
      "source": [
        "from sklearn.preprocessing import StandardScaler\n",
        "sc=StandardScaler()"
      ],
      "execution_count": 15,
      "outputs": []
    },
    {
      "cell_type": "code",
      "metadata": {
        "id": "3Dzl032nJZgZ",
        "colab_type": "code",
        "colab": {}
      },
      "source": [
        "X=sc.fit_transform(X)"
      ],
      "execution_count": 16,
      "outputs": []
    },
    {
      "cell_type": "code",
      "metadata": {
        "id": "Y5hZmzCNJv8v",
        "colab_type": "code",
        "colab": {
          "base_uri": "https://localhost:8080/",
          "height": 34
        },
        "outputId": "7e7df990-a718-4032-859c-fa2af4e47e7b"
      },
      "source": [
        "X.shape"
      ],
      "execution_count": 17,
      "outputs": [
        {
          "output_type": "execute_result",
          "data": {
            "text/plain": [
              "(21613, 12)"
            ]
          },
          "metadata": {
            "tags": []
          },
          "execution_count": 17
        }
      ]
    },
    {
      "cell_type": "code",
      "metadata": {
        "id": "s5BQ6aVmLf2q",
        "colab_type": "code",
        "colab": {}
      },
      "source": [
        "from sklearn.model_selection import train_test_split\n",
        "xtrain,xtest,ytrain,ytest=train_test_split(X,Y)"
      ],
      "execution_count": 18,
      "outputs": []
    },
    {
      "cell_type": "code",
      "metadata": {
        "id": "oeK9_031KE3S",
        "colab_type": "code",
        "colab": {}
      },
      "source": [
        "lmodel.fit(X,Y)"
      ],
      "execution_count": 19,
      "outputs": []
    },
    {
      "cell_type": "code",
      "metadata": {
        "id": "gnEE2XFEKIki",
        "colab_type": "code",
        "colab": {}
      },
      "source": [
        "ypred=lmodel.predict(xtest)"
      ],
      "execution_count": 20,
      "outputs": []
    },
    {
      "cell_type": "code",
      "metadata": {
        "id": "wO0g7zpaLyH0",
        "colab_type": "code",
        "colab": {
          "base_uri": "https://localhost:8080/",
          "height": 34
        },
        "outputId": "3e5705cd-ceca-4c10-9d06-2b3651ce8fd1"
      },
      "source": [
        "lmodel.accuracy(ytest,ypred)"
      ],
      "execution_count": 21,
      "outputs": [
        {
          "output_type": "execute_result",
          "data": {
            "text/plain": [
              "0.657297378383896"
            ]
          },
          "metadata": {
            "tags": []
          },
          "execution_count": 21
        }
      ]
    },
    {
      "cell_type": "code",
      "metadata": {
        "id": "0VnzTDZtL4rc",
        "colab_type": "code",
        "colab": {
          "base_uri": "https://localhost:8080/",
          "height": 34
        },
        "outputId": "67794b13-7317-4b87-e881-9efe9460a8a5"
      },
      "source": [
        "from sklearn.linear_model import  LinearRegression as lr\n",
        "regressor=lr()\n",
        "regressor.fit(X,Y)"
      ],
      "execution_count": 22,
      "outputs": [
        {
          "output_type": "execute_result",
          "data": {
            "text/plain": [
              "LinearRegression(copy_X=True, fit_intercept=True, n_jobs=None, normalize=False)"
            ]
          },
          "metadata": {
            "tags": []
          },
          "execution_count": 22
        }
      ]
    },
    {
      "cell_type": "code",
      "metadata": {
        "id": "NFus6wVBMbtI",
        "colab_type": "code",
        "colab": {}
      },
      "source": [
        "ypred=regressor.predict(xtest)"
      ],
      "execution_count": 23,
      "outputs": []
    },
    {
      "cell_type": "code",
      "metadata": {
        "id": "kTuighefMlmI",
        "colab_type": "code",
        "colab": {
          "base_uri": "https://localhost:8080/",
          "height": 34
        },
        "outputId": "062b8c62-77e7-4fc6-a7f3-686dc6557900"
      },
      "source": [
        "regressor.score(xtest,ytest)"
      ],
      "execution_count": 24,
      "outputs": [
        {
          "output_type": "execute_result",
          "data": {
            "text/plain": [
              "0.6572973783838993"
            ]
          },
          "metadata": {
            "tags": []
          },
          "execution_count": 24
        }
      ]
    },
    {
      "cell_type": "code",
      "metadata": {
        "id": "7MNxT8RlMuB9",
        "colab_type": "code",
        "colab": {}
      },
      "source": [
        ""
      ],
      "execution_count": 24,
      "outputs": []
    }
  ]
}