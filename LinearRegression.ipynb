{
  "nbformat": 4,
  "nbformat_minor": 0,
  "metadata": {
    "colab": {
      "name": "Untitled1.ipynb",
      "provenance": [],
      "collapsed_sections": [],
      "authorship_tag": "ABX9TyOoc1kALM4OCfcbpxpVCDYj",
      "include_colab_link": true
    },
    "kernelspec": {
      "name": "python3",
      "display_name": "Python 3"
    }
  },
  "cells": [
    {
      "cell_type": "markdown",
      "metadata": {
        "id": "view-in-github",
        "colab_type": "text"
      },
      "source": [
        "<a href=\"https://colab.research.google.com/github/joseph444/ml-algos/blob/master/LinearRegression.ipynb\" target=\"_parent\"><img src=\"https://colab.research.google.com/assets/colab-badge.svg\" alt=\"Open In Colab\"/></a>"
      ]
    },
    {
      "cell_type": "markdown",
      "metadata": {
        "id": "IJEq2-69-OoN",
        "colab_type": "text"
      },
      "source": [
        "<h1>Linear Regression Using Closed Form Solution and gradient Descent formula for accuracy </h1>\n"
      ]
    },
    {
      "cell_type": "code",
      "metadata": {
        "id": "F7-1ujfw_eX6",
        "colab_type": "code",
        "colab": {}
      },
      "source": [
        "import numpy as np\n",
        "import math as mt"
      ],
      "execution_count": null,
      "outputs": []
    },
    {
      "cell_type": "code",
      "metadata": {
        "id": "PzcQr5vA-wxt",
        "colab_type": "code",
        "colab": {}
      },
      "source": [
        "#class linear regression\n",
        "class LinearRegression:\n",
        "\n",
        "    def __init__(self,epoc=80,lr=0.01):\n",
        "        #lr is the learning rate \n",
        "        self.lr=lr\n",
        "        #no of times gradient Desent will be working\n",
        "        self.epoc=epoc\n",
        "        pass\n",
        "    def polyFit(self,X,Y,n):\n",
        "        '''\n",
        "          X: numpy array\n",
        "          Y: nump array\n",
        "          n: highest power\n",
        "        '''\n",
        "        self.X=np.ones((X.shape[0],1))\n",
        "        for i in range(1,n+1):\n",
        "            self.X=np.hstack((self.X,X**i))\n",
        "        self.Y=np.reshape(Y,(Y.shape[0],1))\n",
        "        self.Xt=np.transpose(self.X)\n",
        "        self._X=X\n",
        "        self._regression()\n",
        "        self.n=n\n",
        "\n",
        "    def fit(self,X,Y):\n",
        "        '''\n",
        "          X: numpy array\n",
        "          Y: nump array\n",
        "         \n",
        "        '''\n",
        "        ones=np.ones((X.shape[0],1))\n",
        "        self.X=np.hstack((ones,X))\n",
        "        self.Y=np.reshape(Y,(Y.shape[0],1))\n",
        "        self.Xt=np.transpose(self.X)\n",
        "        self._X=X\n",
        "        self._regression()\n",
        "        pass\n",
        "    def _regression(self):\n",
        "        '''\n",
        "          this function uses the closed form solution of linear regression to calculate the regression\n",
        "        '''\n",
        "        w=np.dot(self.Xt,self.X)\n",
        "        p1=np.linalg.inv(w)\n",
        "        \n",
        "        p2=np.dot(np.transpose(self.X),self.Y)\n",
        "       \n",
        "        self.omega=np.dot(p1,p2)#this is the regression coefficient\n",
        "        \n",
        "        self._train()\n",
        "        pass\n",
        "    def gradient(self):\n",
        "        ''' \n",
        "          it calculates the gradient and modifies the omega accoring to it\n",
        "        '''\n",
        "        P=self.predictY()-self.Y\n",
        "        Q=np.transpose(P)\n",
        "        Grad=np.dot(Q,P)\n",
        "        #print(Grad.shape)\n",
        "        Grad=(self.lr/self.Y.shape[0])*Grad\n",
        "        self.omega=self.omega-Grad\n",
        "    def predictY(self):\n",
        "        '''\n",
        "          returns the predicted value of training data\n",
        "        '''\n",
        "        return np.dot(self.X,self.omega)\n",
        "        pass\n",
        "    def RMSE(self):\n",
        "        \"\"\"\n",
        "          ROOT MEAN SQUARE to calculate the root mean square of the predicted value\n",
        "        \"\"\"\n",
        "        M=(self.predictY()-self.Y)**2\n",
        "        x=np.mean(M)\n",
        "        return mt.sqrt(x)\n",
        "    def _train(self):\n",
        "        \"\"\"\n",
        "          this runs the loop for running the epoc loop and modifying the gradient\n",
        "        \"\"\"\n",
        "\n",
        "        for i in range(self.epoc):\n",
        "            print(self.omega)\n",
        "            self.gradient()\n",
        "\n",
        "        pass\n",
        "    def PolyPredict(self,X):\n",
        "        \"\"\"\n",
        "          Predict function for the poly Regression returns Predicted Value from X\n",
        "        \"\"\"\n",
        "        _X=np.ones((X.shape[0],1))\n",
        "        for i in range(1,self.n+1):\n",
        "            _X=np.hstack((_X,_X**i))\n",
        "        return np.dot(_X,self.omega)\n",
        "    def predict(self,X):\n",
        "        \"\"\"\n",
        "          Predict function for the Regression returns Predicted Value from X\n",
        "        \"\"\"\n",
        "        ones=np.ones((X.shape[0],1))\n",
        "        _X=np.hstack((ones,X))\n",
        "        return np.dot(_X,self.omega)\n",
        "\n"
      ],
      "execution_count": null,
      "outputs": []
    },
    {
      "cell_type": "code",
      "metadata": {
        "id": "6ATa4YaMAZez",
        "colab_type": "code",
        "colab": {
          "base_uri": "https://localhost:8080/",
          "height": 176
        },
        "outputId": "a010d1cf-945d-47d4-8e2f-ea85ecc822e9"
      },
      "source": [
        "linearModel=LinearRegression(epoc=1)\n",
        "m=np.linspace(0,10,1000)\n",
        "y=np.linspace(0,20,1000)\n",
        "z=np.linspace(0,100,1000)\n",
        "X=np.array([m,y,z])\n",
        "X=np.reshape(X,(m.shape[0],3))\n",
        "Y=np.linspace(0,2,1000)\n",
        "Y=np.reshape(Y,(Y.shape[0],1))\n",
        "linearModel.fit(X,Y)\n",
        "linearModel.omega\n",
        "\n"
      ],
      "execution_count": null,
      "outputs": [
        {
          "output_type": "stream",
          "text": [
            "[[ 0.61402429]\n",
            " [-0.04996754]\n",
            " [ 0.07205904]\n",
            " [-0.00435215]]\n",
            "(1, 1)\n"
          ],
          "name": "stdout"
        },
        {
          "output_type": "execute_result",
          "data": {
            "text/plain": [
              "array([[ 0.61289959],\n",
              "       [-0.05109224],\n",
              "       [ 0.07093435],\n",
              "       [-0.00547685]])"
            ]
          },
          "metadata": {
            "tags": []
          },
          "execution_count": 123
        }
      ]
    },
    {
      "cell_type": "code",
      "metadata": {
        "id": "P3L8RhJABujM",
        "colab_type": "code",
        "colab": {
          "base_uri": "https://localhost:8080/",
          "height": 1000
        },
        "outputId": "5bba5fe3-535c-48d2-a661-bb66ae64b125"
      },
      "source": [
        "m=np.linspace(0,10,100)\n",
        "y=np.linspace(0,20,100)\n",
        "z=np.linspace(0,100,100)\n",
        "X=np.array([m,y,z])\n",
        "X=np.reshape(X,(m.shape[0],3))\n",
        "linearModel.predict(X)"
      ],
      "execution_count": null,
      "outputs": [
        {
          "output_type": "execute_result",
          "data": {
            "text/plain": [
              "array([[0.61895824],\n",
              "       [0.62331135],\n",
              "       [0.62766446],\n",
              "       [0.63201757],\n",
              "       [0.63637068],\n",
              "       [0.64072378],\n",
              "       [0.64507689],\n",
              "       [0.64943   ],\n",
              "       [0.65378311],\n",
              "       [0.65813622],\n",
              "       [0.66248933],\n",
              "       [0.66684244],\n",
              "       [0.67119554],\n",
              "       [0.67554865],\n",
              "       [0.67990176],\n",
              "       [0.68425487],\n",
              "       [0.68860798],\n",
              "       [0.69296109],\n",
              "       [0.69731419],\n",
              "       [0.7016673 ],\n",
              "       [0.70602041],\n",
              "       [0.71037352],\n",
              "       [0.71472663],\n",
              "       [0.71907974],\n",
              "       [0.72343285],\n",
              "       [0.72778595],\n",
              "       [0.73213906],\n",
              "       [0.73649217],\n",
              "       [0.74084528],\n",
              "       [0.74519839],\n",
              "       [0.7495515 ],\n",
              "       [0.7539046 ],\n",
              "       [0.75825771],\n",
              "       [0.10087076],\n",
              "       [0.63082104],\n",
              "       [0.63952726],\n",
              "       [0.64823347],\n",
              "       [0.65693969],\n",
              "       [0.66564591],\n",
              "       [0.67435212],\n",
              "       [0.68305834],\n",
              "       [0.69176456],\n",
              "       [0.70047077],\n",
              "       [0.70917699],\n",
              "       [0.71788321],\n",
              "       [0.72658942],\n",
              "       [0.73529564],\n",
              "       [0.74400186],\n",
              "       [0.75270808],\n",
              "       [0.76141429],\n",
              "       [0.77012051],\n",
              "       [0.77882673],\n",
              "       [0.78753294],\n",
              "       [0.79623916],\n",
              "       [0.80494538],\n",
              "       [0.81365159],\n",
              "       [0.82235781],\n",
              "       [0.83106403],\n",
              "       [0.83977024],\n",
              "       [0.84847646],\n",
              "       [0.85718268],\n",
              "       [0.8658889 ],\n",
              "       [0.87459511],\n",
              "       [0.88330133],\n",
              "       [0.89200755],\n",
              "       [0.90071376],\n",
              "       [1.02006341],\n",
              "       [0.68799647],\n",
              "       [0.73152755],\n",
              "       [0.77505863],\n",
              "       [0.81858972],\n",
              "       [0.8621208 ],\n",
              "       [0.90565189],\n",
              "       [0.94918297],\n",
              "       [0.99271406],\n",
              "       [1.03624514],\n",
              "       [1.07977623],\n",
              "       [1.12330731],\n",
              "       [1.1668384 ],\n",
              "       [1.21036948],\n",
              "       [1.25390057],\n",
              "       [1.29743165],\n",
              "       [1.34096274],\n",
              "       [1.38449382],\n",
              "       [1.42802491],\n",
              "       [1.47155599],\n",
              "       [1.51508708],\n",
              "       [1.55861816],\n",
              "       [1.60214924],\n",
              "       [1.64568033],\n",
              "       [1.68921141],\n",
              "       [1.7327425 ],\n",
              "       [1.77627358],\n",
              "       [1.81980467],\n",
              "       [1.86333575],\n",
              "       [1.90686684],\n",
              "       [1.95039792],\n",
              "       [1.99392901],\n",
              "       [2.03746009],\n",
              "       [2.08099118]])"
            ]
          },
          "metadata": {
            "tags": []
          },
          "execution_count": 116
        }
      ]
    },
    {
      "cell_type": "code",
      "metadata": {
        "id": "P6x0q0zpPr7q",
        "colab_type": "code",
        "colab": {
          "base_uri": "https://localhost:8080/",
          "height": 1000
        },
        "outputId": "7e8253d1-6454-4a5e-fd58-b6a3e6823ba1"
      },
      "source": [
        "ypred"
      ],
      "execution_count": null,
      "outputs": [
        {
          "output_type": "execute_result",
          "data": {
            "text/plain": [
              "array([[-8.88178420e-16],\n",
              "       [ 2.02020202e-02],\n",
              "       [ 4.04040404e-02],\n",
              "       [ 6.06060606e-02],\n",
              "       [ 8.08080808e-02],\n",
              "       [ 1.01010101e-01],\n",
              "       [ 1.21212121e-01],\n",
              "       [ 1.41414141e-01],\n",
              "       [ 1.61616162e-01],\n",
              "       [ 1.81818182e-01],\n",
              "       [ 2.02020202e-01],\n",
              "       [ 2.22222222e-01],\n",
              "       [ 2.42424242e-01],\n",
              "       [ 2.62626263e-01],\n",
              "       [ 2.82828283e-01],\n",
              "       [ 3.03030303e-01],\n",
              "       [ 3.23232323e-01],\n",
              "       [ 3.43434343e-01],\n",
              "       [ 3.63636364e-01],\n",
              "       [ 3.83838384e-01],\n",
              "       [ 4.04040404e-01],\n",
              "       [ 4.24242424e-01],\n",
              "       [ 4.44444444e-01],\n",
              "       [ 4.64646465e-01],\n",
              "       [ 4.84848485e-01],\n",
              "       [ 5.05050505e-01],\n",
              "       [ 5.25252525e-01],\n",
              "       [ 5.45454545e-01],\n",
              "       [ 5.65656566e-01],\n",
              "       [ 5.85858586e-01],\n",
              "       [ 6.06060606e-01],\n",
              "       [ 6.26262626e-01],\n",
              "       [ 6.46464646e-01],\n",
              "       [ 6.66666667e-01],\n",
              "       [ 6.86868687e-01],\n",
              "       [ 7.07070707e-01],\n",
              "       [ 7.27272727e-01],\n",
              "       [ 7.47474747e-01],\n",
              "       [ 7.67676768e-01],\n",
              "       [ 7.87878788e-01],\n",
              "       [ 8.08080808e-01],\n",
              "       [ 8.28282828e-01],\n",
              "       [ 8.48484848e-01],\n",
              "       [ 8.68686869e-01],\n",
              "       [ 8.88888889e-01],\n",
              "       [ 9.09090909e-01],\n",
              "       [ 9.29292929e-01],\n",
              "       [ 9.49494949e-01],\n",
              "       [ 9.69696970e-01],\n",
              "       [ 9.89898990e-01],\n",
              "       [ 1.01010101e+00],\n",
              "       [ 1.03030303e+00],\n",
              "       [ 1.05050505e+00],\n",
              "       [ 1.07070707e+00],\n",
              "       [ 1.09090909e+00],\n",
              "       [ 1.11111111e+00],\n",
              "       [ 1.13131313e+00],\n",
              "       [ 1.15151515e+00],\n",
              "       [ 1.17171717e+00],\n",
              "       [ 1.19191919e+00],\n",
              "       [ 1.21212121e+00],\n",
              "       [ 1.23232323e+00],\n",
              "       [ 1.25252525e+00],\n",
              "       [ 1.27272727e+00],\n",
              "       [ 1.29292929e+00],\n",
              "       [ 1.31313131e+00],\n",
              "       [ 1.33333333e+00],\n",
              "       [ 1.35353535e+00],\n",
              "       [ 1.37373737e+00],\n",
              "       [ 1.39393939e+00],\n",
              "       [ 1.41414141e+00],\n",
              "       [ 1.43434343e+00],\n",
              "       [ 1.45454545e+00],\n",
              "       [ 1.47474747e+00],\n",
              "       [ 1.49494949e+00],\n",
              "       [ 1.51515152e+00],\n",
              "       [ 1.53535354e+00],\n",
              "       [ 1.55555556e+00],\n",
              "       [ 1.57575758e+00],\n",
              "       [ 1.59595960e+00],\n",
              "       [ 1.61616162e+00],\n",
              "       [ 1.63636364e+00],\n",
              "       [ 1.65656566e+00],\n",
              "       [ 1.67676768e+00],\n",
              "       [ 1.69696970e+00],\n",
              "       [ 1.71717172e+00],\n",
              "       [ 1.73737374e+00],\n",
              "       [ 1.75757576e+00],\n",
              "       [ 1.77777778e+00],\n",
              "       [ 1.79797980e+00],\n",
              "       [ 1.81818182e+00],\n",
              "       [ 1.83838384e+00],\n",
              "       [ 1.85858586e+00],\n",
              "       [ 1.87878788e+00],\n",
              "       [ 1.89898990e+00],\n",
              "       [ 1.91919192e+00],\n",
              "       [ 1.93939394e+00],\n",
              "       [ 1.95959596e+00],\n",
              "       [ 1.97979798e+00],\n",
              "       [ 2.00000000e+00]])"
            ]
          },
          "metadata": {
            "tags": []
          },
          "execution_count": 85
        }
      ]
    },
    {
      "cell_type": "code",
      "metadata": {
        "id": "8ZW8uvQnP4iC",
        "colab_type": "code",
        "colab": {}
      },
      "source": [
        ""
      ],
      "execution_count": null,
      "outputs": []
    }
  ]
}