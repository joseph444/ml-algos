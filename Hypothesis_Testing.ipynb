{
  "nbformat": 4,
  "nbformat_minor": 0,
  "metadata": {
    "colab": {
      "name": "Hypothesis Testing.ipynb",
      "provenance": [],
      "toc_visible": true,
      "authorship_tag": "ABX9TyP+O2wdiTHSBreFN/T37xiO",
      "include_colab_link": true
    },
    "kernelspec": {
      "name": "python3",
      "display_name": "Python 3"
    }
  },
  "cells": [
    {
      "cell_type": "markdown",
      "metadata": {
        "id": "view-in-github",
        "colab_type": "text"
      },
      "source": [
        "<a href=\"https://colab.research.google.com/github/joseph444/ml-algos/blob/master/Hypothesis_Testing.ipynb\" target=\"_parent\"><img src=\"https://colab.research.google.com/assets/colab-badge.svg\" alt=\"Open In Colab\"/></a>"
      ]
    },
    {
      "cell_type": "markdown",
      "metadata": {
        "id": "g0kAnw90zKT0",
        "colab_type": "text"
      },
      "source": [
        "##Hypothesis Testing is the process of testing a particular condition over an threshold of value. In simple words Hypothesis Testing is used to test if a Hypothesis stands to it's ground on the basis of the data in hand."
      ]
    },
    {
      "cell_type": "markdown",
      "metadata": {
        "id": "8cGiJcRKz082",
        "colab_type": "text"
      },
      "source": [
        "###Z-test\n",
        "1. it is used when population variance is known\n",
        "2. Population is normal Distribution  and the Population variance us known\n",
        "3. The Sample size is large and the Population variance is known.\n",
        "\n",
        "Z_score,P-score=Z_test(Sample_mean-Population_mean)/(population_std/sqrt(no_of_samples))\n",
        "\n",
        "P-score is the probability value for that particular Z_score\n",
        "\n",
        "if p-score is more than thresholde\n",
        "then null hypothesis is stands\n",
        "else alternative hypothesis stands"
      ]
    },
    {
      "cell_type": "code",
      "metadata": {
        "id": "1Fz_z9rezDy0",
        "colab_type": "code",
        "colab": {}
      },
      "source": [
        "def Z_test(pop_mean,pop_std,sample):\n",
        "    import numpy as np\n",
        "    import math\n",
        "    from scipy import stats\n",
        "    sample_mean=np.mean(sample)\n",
        "    n=len(sample)\n",
        "    Z_score=(sample_mean-pop_mean)/(pop_std/math.sqrt(n))\n",
        "    return Z_score,stats.norm.cdf(Z_score)"
      ],
      "execution_count": null,
      "outputs": []
    },
    {
      "cell_type": "code",
      "metadata": {
        "id": "fGXWbt1z4Dn7",
        "colab_type": "code",
        "colab": {}
      },
      "source": [
        "import pandas as pd"
      ],
      "execution_count": null,
      "outputs": []
    },
    {
      "cell_type": "markdown",
      "metadata": {
        "id": "1QfMCFUh4wOj",
        "colab_type": "text"
      },
      "source": [
        "A passport office claims that the passport applications are processed within 30 days of submitting the application form and all neccessary docuemnts. The Population standard deviation of the processing time is 12.5days\n",
        "\n",
        "population_mean=30\n",
        "\n",
        "population_variance=12.5"
      ]
    },
    {
      "cell_type": "code",
      "metadata": {
        "id": "z1G51WAD4gj_",
        "colab_type": "code",
        "colab": {
          "base_uri": "https://localhost:8080/",
          "height": 202
        },
        "outputId": "db8dac18-2332-477a-dea3-98ed6c8be470"
      },
      "source": [
        "dataset=pd.read_csv('passport.csv')\n",
        "dataset.head(5)"
      ],
      "execution_count": null,
      "outputs": [
        {
          "output_type": "execute_result",
          "data": {
            "text/html": [
              "<div>\n",
              "<style scoped>\n",
              "    .dataframe tbody tr th:only-of-type {\n",
              "        vertical-align: middle;\n",
              "    }\n",
              "\n",
              "    .dataframe tbody tr th {\n",
              "        vertical-align: top;\n",
              "    }\n",
              "\n",
              "    .dataframe thead th {\n",
              "        text-align: right;\n",
              "    }\n",
              "</style>\n",
              "<table border=\"1\" class=\"dataframe\">\n",
              "  <thead>\n",
              "    <tr style=\"text-align: right;\">\n",
              "      <th></th>\n",
              "      <th>processing_time</th>\n",
              "    </tr>\n",
              "  </thead>\n",
              "  <tbody>\n",
              "    <tr>\n",
              "      <th>0</th>\n",
              "      <td>16.0</td>\n",
              "    </tr>\n",
              "    <tr>\n",
              "      <th>1</th>\n",
              "      <td>16.0</td>\n",
              "    </tr>\n",
              "    <tr>\n",
              "      <th>2</th>\n",
              "      <td>30.0</td>\n",
              "    </tr>\n",
              "    <tr>\n",
              "      <th>3</th>\n",
              "      <td>37.0</td>\n",
              "    </tr>\n",
              "    <tr>\n",
              "      <th>4</th>\n",
              "      <td>25.0</td>\n",
              "    </tr>\n",
              "  </tbody>\n",
              "</table>\n",
              "</div>"
            ],
            "text/plain": [
              "   processing_time\n",
              "0             16.0\n",
              "1             16.0\n",
              "2             30.0\n",
              "3             37.0\n",
              "4             25.0"
            ]
          },
          "metadata": {
            "tags": []
          },
          "execution_count": 3
        }
      ]
    },
    {
      "cell_type": "code",
      "metadata": {
        "id": "52k1XsfN7mMk",
        "colab_type": "code",
        "colab": {
          "base_uri": "https://localhost:8080/",
          "height": 34
        },
        "outputId": "c7dece97-aa7b-47b3-bb03-e9336c3a66e3"
      },
      "source": [
        "Z_test(30,12.5,dataset.processing_time)"
      ],
      "execution_count": null,
      "outputs": [
        {
          "output_type": "execute_result",
          "data": {
            "text/plain": [
              "(-1.4925950555994747, 0.06777160919961511)"
            ]
          },
          "metadata": {
            "tags": []
          },
          "execution_count": 4
        }
      ]
    },
    {
      "cell_type": "code",
      "metadata": {
        "id": "a2G284ZBDOqE",
        "colab_type": "code",
        "colab": {}
      },
      "source": [
        ""
      ],
      "execution_count": null,
      "outputs": []
    }
  ]
}